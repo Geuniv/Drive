{
 "cells": [
  {
   "cell_type": "code",
   "execution_count": 6,
   "id": "349c8d81",
   "metadata": {},
   "outputs": [
    {
     "name": "stdout",
     "output_type": "stream",
     "text": [
      "입력: 안녕하세요\n",
      "안녕하세요안녕하세요\n"
     ]
    }
   ],
   "source": [
    "#111\n",
    "a=input(\"입력: \")\n",
    "\n",
    "print(a*2)"
   ]
  },
  {
   "cell_type": "code",
   "execution_count": 5,
   "id": "cd41f337",
   "metadata": {},
   "outputs": [
    {
     "name": "stdout",
     "output_type": "stream",
     "text": [
      "숫자를 입력하세요: 30\n",
      "40\n"
     ]
    }
   ],
   "source": [
    "#112\n",
    "a=int(input(\"숫자를 입력하세요: \"))\n",
    "print(a+10)"
   ]
  },
  {
   "cell_type": "code",
   "execution_count": 11,
   "id": "0ea04d03",
   "metadata": {},
   "outputs": [
    {
     "name": "stdout",
     "output_type": "stream",
     "text": [
      "30\n",
      "짝수\n"
     ]
    }
   ],
   "source": [
    "#113\n",
    "a=int(input())\n",
    "\n",
    "if a%2==0:\n",
    "    print('짝수')\n",
    "else:\n",
    "    print('홀수')"
   ]
  },
  {
   "cell_type": "code",
   "execution_count": 21,
   "id": "3b54b044",
   "metadata": {},
   "outputs": [
    {
     "name": "stdout",
     "output_type": "stream",
     "text": [
      "입력값: 220\n",
      "240\n"
     ]
    }
   ],
   "source": [
    "#114\n",
    "a=int(input(\"입력값: \"))\n",
    "num = 20+int(a)\n",
    "\n",
    "if num>=255:\n",
    "    print(\"출력값:\",255)\n",
    "else:\n",
    "    print(num)"
   ]
  },
  {
   "cell_type": "code",
   "execution_count": 27,
   "id": "0626b314",
   "metadata": {},
   "outputs": [
    {
     "name": "stdout",
     "output_type": "stream",
     "text": [
      "300\n",
      "255\n"
     ]
    }
   ],
   "source": [
    "#115\n",
    "a=int(input())\n",
    "num=int(a)-20\n",
    "\n",
    "if num<0:\n",
    "    print(0)\n",
    "elif num>255:\n",
    "    print(255)\n",
    "else:\n",
    "    print(num)"
   ]
  },
  {
   "cell_type": "code",
   "execution_count": 29,
   "id": "b30183ae",
   "metadata": {},
   "outputs": [
    {
     "name": "stdout",
     "output_type": "stream",
     "text": [
      "현재시간: 2:00\n",
      "정각 입니다.\n"
     ]
    }
   ],
   "source": [
    "#116\n",
    "현재시간=input(\"현재시간: \")\n",
    "\n",
    "if 현재시간[-2:] == \"00\":\n",
    "    print(\"정각 입니다.\")\n",
    "else:\n",
    "    print(\"정각이 아닙니다.\")"
   ]
  },
  {
   "cell_type": "code",
   "execution_count": 37,
   "id": "f3427d22",
   "metadata": {},
   "outputs": [
    {
     "name": "stdout",
     "output_type": "stream",
     "text": [
      "좋아하는 과일은? 사과\n",
      "정답입니다.\n"
     ]
    }
   ],
   "source": [
    "#117\n",
    "fruit=[\"사과\",\"포도\",\"홍시\"]\n",
    "a=input(\"좋아하는 과일은? \")\n",
    "\n",
    "if a in fruit:\n",
    "    print(\"정답입니다.\")\n",
    "else:\n",
    "    print(\"오답입니다.\")"
   ]
  },
  {
   "cell_type": "code",
   "execution_count": 42,
   "id": "b3b2bf14",
   "metadata": {},
   "outputs": [
    {
     "name": "stdout",
     "output_type": "stream",
     "text": [
      "종목명: python\n",
      "투자 경고 종목이 아닙니다.\n"
     ]
    }
   ],
   "source": [
    "#118\n",
    "warn_investment_list = [\"Microsoft\", \"Google\", \"Naver\", \"Kakao\", \"SAMSUNG\", \"LG\"]\n",
    "a=input(\"종목명: \")\n",
    "\n",
    "if a in warn_investment_list:\n",
    "    print(\"투자 경고 종목입니다.\")\n",
    "else:\n",
    "    print(\"투자 경고 종목이 아닙니다.\")"
   ]
  },
  {
   "cell_type": "code",
   "execution_count": 4,
   "id": "ae47d72e",
   "metadata": {},
   "outputs": [
    {
     "name": "stdout",
     "output_type": "stream",
     "text": [
      "제가 좋아하는 계절은: 겨울\n",
      "오답입니다.\n"
     ]
    }
   ],
   "source": [
    "#119\n",
    "fruit = {\"봄\" : \"딸기\", \"여름\" : \"토마토\", \"가을\" : \"사과\"}\n",
    "a=input(\"제가 좋아하는 계절은: \")\n",
    "\n",
    "if a in fruit.keys():\n",
    "    print(\"정답입니다.\")\n",
    "else:\n",
    "    print(\"오답입니다.\")"
   ]
  },
  {
   "cell_type": "code",
   "execution_count": 9,
   "id": "b61b98a2",
   "metadata": {},
   "outputs": [
    {
     "name": "stdout",
     "output_type": "stream",
     "text": [
      "좋아하는 과일은? 바나나\n",
      "오답입니다.\n"
     ]
    }
   ],
   "source": [
    "#120\n",
    "fruit = {\"봄\" : \"딸기\", \"여름\" : \"토마토\", \"가을\" : \"사과\"}\n",
    "a=input(\"좋아하는 과일은? \")\n",
    "\n",
    "if a in fruit.values():\n",
    "    print(\"정답입니다.\")\n",
    "else:\n",
    "    print(\"오답입니다.\")"
   ]
  },
  {
   "cell_type": "code",
   "execution_count": 18,
   "id": "2bb0a5a2",
   "metadata": {},
   "outputs": [
    {
     "name": "stdout",
     "output_type": "stream",
     "text": [
      "A\n",
      "a\n"
     ]
    }
   ],
   "source": [
    "#121\n",
    "a=input()\n",
    "\n",
    "if a.islower()==True:\n",
    "    print(a.upper())\n",
    "else:\n",
    "    print(a.lower())"
   ]
  },
  {
   "cell_type": "code",
   "execution_count": 3,
   "id": "8fe0383b",
   "metadata": {},
   "outputs": [
    {
     "name": "stdout",
     "output_type": "stream",
     "text": [
      "score: 81\n",
      "grade is A\n"
     ]
    }
   ],
   "source": [
    "#122\n",
    "score=int(input(\"score: \"))\n",
    "\n",
    "if score>=81:\n",
    "    print(\"grade is A\")\n",
    "elif score>=61:\n",
    "    print(\"grade is B\")\n",
    "elif score>=41:\n",
    "    print(\"grade is C\")\n",
    "elif score>=21:\n",
    "    print(\"grade is D\")\n",
    "else:\n",
    "    print(\"grade is E\")"
   ]
  },
  {
   "cell_type": "code",
   "execution_count": 53,
   "id": "fd714587",
   "metadata": {},
   "outputs": [
    {
     "name": "stdout",
     "output_type": "stream",
     "text": [
      "입력: 100 엔\n",
      "109600 원\n"
     ]
    }
   ],
   "source": [
    "#123\n",
    "a={\n",
    "    \"달러\":1167,\n",
    "    \"엔\":1096,\n",
    "    \"유로\":1268,\n",
    "    \"위안\":171,\n",
    "    \"화폐단위\":100\n",
    "}\n",
    "\n",
    "i=input('입력: ')\n",
    "x,y=i.split(' ')\n",
    "print(int(x)*a[y], \"원\")"
   ]
  },
  {
   "cell_type": "code",
   "execution_count": 48,
   "id": "39dd9142",
   "metadata": {},
   "outputs": [
    {
     "name": "stdout",
     "output_type": "stream",
     "text": [
      "100\n",
      "1167\n"
     ]
    }
   ],
   "source": [
    "i='100 달러'\n",
    "x,y=i.split(' ')\n",
    "\n",
    "print(x)\n",
    "print(a[y])"
   ]
  },
  {
   "cell_type": "code",
   "execution_count": 28,
   "id": "b1c751dc",
   "metadata": {},
   "outputs": [
    {
     "name": "stdout",
     "output_type": "stream",
     "text": [
      "input number1: 10\n",
      "input number2: 100\n",
      "input number3: 1000\n",
      "1000\n"
     ]
    }
   ],
   "source": [
    "#124\n",
    "num1 = input(\"input number1: \")\n",
    "num2 = input(\"input number2: \")\n",
    "num3 = input(\"input number3: \")\n",
    "print(max([num1,num2,num3]))"
   ]
  },
  {
   "cell_type": "code",
   "execution_count": 32,
   "id": "75070e47",
   "metadata": {},
   "outputs": [
    {
     "name": "stdout",
     "output_type": "stream",
     "text": [
      "skt\n"
     ]
    }
   ],
   "source": [
    "#125\n",
    "phone={\n",
    "    '011':'skt',\n",
    "    '016':'kt',\n",
    "    '109':'lgu',\n",
    "    '010':'알수없음'\n",
    "}\n",
    "a='011-345-1923'\n",
    "print(phone[a[:3]])"
   ]
  },
  {
   "cell_type": "code",
   "execution_count": 30,
   "id": "bbd67940",
   "metadata": {},
   "outputs": [
    {
     "data": {
      "text/plain": [
       "{'011': 'skt', '016': 'kt', '109': 'lgu', '010': '알수없음'}"
      ]
     },
     "execution_count": 30,
     "metadata": {},
     "output_type": "execute_result"
    }
   ],
   "source": [
    "#126\n"
   ]
  },
  {
   "cell_type": "code",
   "execution_count": 35,
   "id": "29f626de",
   "metadata": {},
   "outputs": [],
   "source": [
    "#127"
   ]
  },
  {
   "cell_type": "code",
   "execution_count": 43,
   "id": "2d1c335a",
   "metadata": {},
   "outputs": [
    {
     "name": "stdout",
     "output_type": "stream",
     "text": [
      "서울 아닙니다\n"
     ]
    }
   ],
   "source": [
    "#128\n",
    "a='821010-1995210'\n",
    "a=a.replace('-','')\n",
    "b=a[7:9]\n",
    "if 0<=int(b)<=8:\n",
    "    print(\"서울입니다.\")\n",
    "else:\n",
    "    print(\"서울 아닙니다\")"
   ]
  },
  {
   "cell_type": "code",
   "execution_count": 36,
   "id": "3e6920d8",
   "metadata": {},
   "outputs": [
    {
     "data": {
      "text/plain": [
       "{'달러': 1167, '엔': 1096, '유로': 1268, '위안': 171, '화폐단위': 100}"
      ]
     },
     "execution_count": 36,
     "metadata": {},
     "output_type": "execute_result"
    }
   ],
   "source": [
    "#129"
   ]
  },
  {
   "cell_type": "code",
   "execution_count": 52,
   "id": "d4264858",
   "metadata": {},
   "outputs": [],
   "source": [
    "#130\n",
    "import requests\n",
    "btc = requests.get(\"https://api.bithumb.com/public/ticker/\").json()['data']"
   ]
  },
  {
   "cell_type": "code",
   "execution_count": 51,
   "id": "5a36e9dd",
   "metadata": {},
   "outputs": [
    {
     "name": "stdout",
     "output_type": "stream",
     "text": [
      "Collecting requests\n",
      "  Downloading requests-2.28.1-py3-none-any.whl (62 kB)\n",
      "     ---------------------------------------- 62.8/62.8 kB 3.5 MB/s eta 0:00:00\n",
      "Collecting charset-normalizer<3,>=2\n",
      "  Downloading charset_normalizer-2.1.0-py3-none-any.whl (39 kB)\n",
      "Requirement already satisfied: certifi>=2017.4.17 in c:\\users\\user\\.conda\\envs\\han\\lib\\site-packages (from requests) (2022.6.15)\n",
      "Collecting urllib3<1.27,>=1.21.1\n",
      "  Downloading urllib3-1.26.10-py2.py3-none-any.whl (139 kB)\n",
      "     -------------------------------------- 139.2/139.2 kB 8.6 MB/s eta 0:00:00\n",
      "Collecting idna<4,>=2.5\n",
      "  Downloading idna-3.3-py3-none-any.whl (61 kB)\n",
      "     ---------------------------------------- 61.2/61.2 kB ? eta 0:00:00\n",
      "Installing collected packages: urllib3, idna, charset-normalizer, requests\n",
      "Successfully installed charset-normalizer-2.1.0 idna-3.3 requests-2.28.1 urllib3-1.26.10\n"
     ]
    }
   ],
   "source": [
    "!pip install requests"
   ]
  },
  {
   "cell_type": "code",
   "execution_count": null,
   "id": "5c4840fc",
   "metadata": {},
   "outputs": [],
   "source": []
  }
 ],
 "metadata": {
  "kernelspec": {
   "display_name": "Python 3 (ipykernel)",
   "language": "python",
   "name": "python3"
  },
  "language_info": {
   "codemirror_mode": {
    "name": "ipython",
    "version": 3
   },
   "file_extension": ".py",
   "mimetype": "text/x-python",
   "name": "python",
   "nbconvert_exporter": "python",
   "pygments_lexer": "ipython3",
   "version": "3.10.4"
  }
 },
 "nbformat": 4,
 "nbformat_minor": 5
}
