{
 "cells": [
  {
   "cell_type": "code",
   "execution_count": 2,
   "id": "90a62c83",
   "metadata": {},
   "outputs": [],
   "source": [
    "import csv"
   ]
  },
  {
   "cell_type": "code",
   "execution_count": 18,
   "id": "96b2ebf9",
   "metadata": {},
   "outputs": [
    {
     "name": "stdout",
     "output_type": "stream",
     "text": [
      "38.4\n"
     ]
    }
   ],
   "source": [
    "f=open('./seoul.csv','r')\n",
    "data = csv.reader(f)\n",
    "header = next(data)\n",
    "\n",
    "maxium=-99999999\n",
    "for row in data:\n",
    "    if row[-1]!='':\n",
    "        tmp=float(row[-1])\n",
    "        if maxium < tmp:\n",
    "            maxium=tmp\n",
    "print(maxium)    \n",
    "f.close()"
   ]
  },
  {
   "cell_type": "code",
   "execution_count": 10,
   "id": "9e585be9",
   "metadata": {},
   "outputs": [
    {
     "data": {
      "text/plain": [
       "['날짜', '지점', '평균기온(℃)', '최저기온(℃)', '최고기온(℃)']"
      ]
     },
     "execution_count": 10,
     "metadata": {},
     "output_type": "execute_result"
    }
   ],
   "source": [
    "header"
   ]
  },
  {
   "cell_type": "code",
   "execution_count": 11,
   "id": "63c03521",
   "metadata": {},
   "outputs": [
    {
     "name": "stdout",
     "output_type": "stream",
     "text": [
      "100\n"
     ]
    }
   ],
   "source": [
    "a=[4,5,2,2,100,-10]\n",
    "\n",
    "#최대값 구하기\n",
    "\n",
    "maxium=-9999999\n",
    "for i in a:\n",
    "    if maxium <i:\n",
    "        maxium=i\n",
    "print(maxium)"
   ]
  },
  {
   "cell_type": "code",
   "execution_count": 13,
   "id": "dee75c2e",
   "metadata": {},
   "outputs": [
    {
     "name": "stdout",
     "output_type": "stream",
     "text": [
      "-10\n"
     ]
    }
   ],
   "source": [
    "a=[4,5,2,2,100,-10]\n",
    "\n",
    "#최소값 구하기\n",
    "\n",
    "minium=99999999\n",
    "\n",
    "for i in a:\n",
    "    if minium >i:\n",
    "        minium=i\n",
    "print(minium)"
   ]
  },
  {
   "cell_type": "code",
   "execution_count": null,
   "id": "57db3f73",
   "metadata": {},
   "outputs": [],
   "source": []
  }
 ],
 "metadata": {
  "kernelspec": {
   "display_name": "Python 3 (ipykernel)",
   "language": "python",
   "name": "python3"
  },
  "language_info": {
   "codemirror_mode": {
    "name": "ipython",
    "version": 3
   },
   "file_extension": ".py",
   "mimetype": "text/x-python",
   "name": "python",
   "nbconvert_exporter": "python",
   "pygments_lexer": "ipython3",
   "version": "3.9.12"
  }
 },
 "nbformat": 4,
 "nbformat_minor": 5
}
